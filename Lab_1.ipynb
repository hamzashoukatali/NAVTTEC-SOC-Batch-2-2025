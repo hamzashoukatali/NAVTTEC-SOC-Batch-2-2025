{
  "nbformat": 4,
  "nbformat_minor": 0,
  "metadata": {
    "colab": {
      "provenance": [],
      "authorship_tag": "ABX9TyMp7X3GhwLLJNpiT5c6moQC",
      "include_colab_link": true
    },
    "kernelspec": {
      "name": "python3",
      "display_name": "Python 3"
    },
    "language_info": {
      "name": "python"
    }
  },
  "cells": [
    {
      "cell_type": "markdown",
      "metadata": {
        "id": "view-in-github",
        "colab_type": "text"
      },
      "source": [
        "<a href=\"https://colab.research.google.com/github/hamzashoukatali/NAVTTEC-SOC-Batch-2-2025/blob/main/Lab_1.ipynb\" target=\"_parent\"><img src=\"https://colab.research.google.com/assets/colab-badge.svg\" alt=\"Open In Colab\"/></a>"
      ]
    },
    {
      "cell_type": "code",
      "execution_count": null,
      "metadata": {
        "id": "M0acYX2fdPVV"
      },
      "outputs": [],
      "source": [
        "# Create a list of 5 fruits\n",
        "fruits = [\"Apple\", \"Banana\", \"Orange\", \"Grapes\", \"Mango\"]\n",
        "\n",
        "# Print the first and last fruit\n",
        "print(f\"First fruit: {fruits[0]}, Last fruit: {fruits[-1]}\")"
      ]
    },
    {
      "cell_type": "code",
      "source": [
        "# Create a list of numbers\n",
        "numbers = [10, 20, 30, 40, 50]\n",
        "\n",
        "# Calculate and print the sum of all numbers\n",
        "total_sum = sum(numbers)\n",
        "print(f\"Sum of all numbers: {total_sum}\")"
      ],
      "metadata": {
        "id": "LDNFI7dTevSa"
      },
      "execution_count": null,
      "outputs": []
    },
    {
      "cell_type": "code",
      "source": [
        "# Create a list of 4 colors\n",
        "colors = [\"Red\", \"Blue\", \"Green\", \"Yellow\"]\n",
        "\n",
        "# Print original list\n",
        "print(\"Original list:\", colors)\n",
        "\n",
        "# Replace the 2nd color (index 1) with a new one\n",
        "colors[1] = \"Purple\"\n",
        "\n",
        "# Print the updated list\n",
        "print(\"Updated list:\", colors)"
      ],
      "metadata": {
        "id": "9wgJBnDSe9E2"
      },
      "execution_count": null,
      "outputs": []
    },
    {
      "cell_type": "code",
      "source": [
        "# Create a list of numbers\n",
        "numbers = [5, 10, 15, 20, 25]\n",
        "\n",
        "# Print original list\n",
        "print(\"Original list:\", numbers)\n",
        "\n",
        "# Remove the number 15\n",
        "numbers.remove(15)\n",
        "\n",
        "# Print the updated list\n",
        "print(\"Updated list:\", numbers)"
      ],
      "metadata": {
        "id": "0atYMWltfKnD"
      },
      "execution_count": null,
      "outputs": []
    }
  ]
}