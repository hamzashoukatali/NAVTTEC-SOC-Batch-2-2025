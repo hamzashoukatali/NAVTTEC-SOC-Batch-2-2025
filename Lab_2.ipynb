{
  "nbformat": 4,
  "nbformat_minor": 0,
  "metadata": {
    "colab": {
      "provenance": [],
      "authorship_tag": "ABX9TyNCgJyACQwYonMdlUb5C+Ra",
      "include_colab_link": true
    },
    "kernelspec": {
      "name": "python3",
      "display_name": "Python 3"
    },
    "language_info": {
      "name": "python"
    }
  },
  "cells": [
    {
      "cell_type": "markdown",
      "metadata": {
        "id": "view-in-github",
        "colab_type": "text"
      },
      "source": [
        "<a href=\"https://colab.research.google.com/github/hamzashoukatali/NAVTTEC-SOC-Batch-2-2025/blob/main/Lab_2.ipynb\" target=\"_parent\"><img src=\"https://colab.research.google.com/assets/colab-badge.svg\" alt=\"Open In Colab\"/></a>"
      ]
    },
    {
      "cell_type": "code",
      "source": [
        "# 1. Create a dictionary to store student information\n",
        "student = {\n",
        "    \"Name\": \"Ali\",\n",
        "    \"Age\": 16,\n",
        "    \"Class\": \"10th\"\n",
        "}\n",
        "print(\"1. Original dictionary:\")\n",
        "print(student)\n",
        "print()\n",
        "\n",
        "# 2. Access and print only the Age from the dictionary\n",
        "print(\"2. Age from dictionary:\")\n",
        "print(\"Age:\", student[\"Age\"])\n",
        "print()\n",
        "\n",
        "# 3. Add a new key-value pair \"grade\": \"A\" to the dictionary\n",
        "student[\"grade\"] = \"A\"\n",
        "print(\"3. After adding grade:\")\n",
        "print(student)\n",
        "print()\n",
        "\n",
        "# 4. Update the age to 20\n",
        "student[\"Age\"] = 20\n",
        "print(\"4. After updating age to 20:\")\n",
        "print(student)\n",
        "print()\n",
        "\n",
        "# 5. Delete the key \"city\" from dictionary\n",
        "student[\"city\"] = \"Karachi\"\n",
        "print(\"5. Before deleting city:\")\n",
        "print(student)\n",
        "student.pop(\"city\", None)\n",
        "print(\"After deleting city:\")\n",
        "print(student)\n",
        "print()\n",
        "\n",
        "# 6. Loop through dictionary and print all keys and values\n",
        "print(\"6. All keys and values:\")\n",
        "for key, value in student.items():\n",
        "    print(f\"{key}: {value}\")"
      ],
      "metadata": {
        "colab": {
          "base_uri": "https://localhost:8080/"
        },
        "id": "15f1anoFkKxC",
        "outputId": "9ded65c3-b825-4d5a-b269-dc629a7de72a"
      },
      "execution_count": 1,
      "outputs": [
        {
          "output_type": "stream",
          "name": "stdout",
          "text": [
            "1. Original dictionary:\n",
            "{'Name': 'Ali', 'Age': 16, 'Class': '10th'}\n",
            "\n",
            "2. Age from dictionary:\n",
            "Age: 16\n",
            "\n",
            "3. After adding grade:\n",
            "{'Name': 'Ali', 'Age': 16, 'Class': '10th', 'grade': 'A'}\n",
            "\n",
            "4. After updating age to 20:\n",
            "{'Name': 'Ali', 'Age': 20, 'Class': '10th', 'grade': 'A'}\n",
            "\n",
            "5. Before deleting city:\n",
            "{'Name': 'Ali', 'Age': 20, 'Class': '10th', 'grade': 'A', 'city': 'Karachi'}\n",
            "After deleting city:\n",
            "{'Name': 'Ali', 'Age': 20, 'Class': '10th', 'grade': 'A'}\n",
            "\n",
            "6. All keys and values:\n",
            "Name: Ali\n",
            "Age: 20\n",
            "Class: 10th\n",
            "grade: A\n"
          ]
        }
      ]
    }
  ]
}